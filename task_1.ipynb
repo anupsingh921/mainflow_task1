{
  "nbformat": 4,
  "nbformat_minor": 0,
  "metadata": {
    "colab": {
      "provenance": []
    },
    "kernelspec": {
      "name": "python3",
      "display_name": "Python 3"
    },
    "language_info": {
      "name": "python"
    }
  },
  "cells": [
    {
      "cell_type": "code",
      "execution_count": 47,
      "metadata": {
        "id": "PWGA_gXYL94F"
      },
      "outputs": [],
      "source": [
        "#Load the CSV dataset file\n",
        "import pandas as pd\n",
        "df = pd.read_csv('dataset_mf1.csv')"
      ]
    },
    {
      "cell_type": "code",
      "source": [
        "# Check for missing values in each column\n",
        "missing_values = df.isnull().sum()\n",
        "\n",
        "# Display columns with missing values and their counts\n",
        "print(missing_values[missing_values > 0])"
      ],
      "metadata": {
        "colab": {
          "base_uri": "https://localhost:8080/"
        },
        "id": "i2TziKtnMH2h",
        "outputId": "6ccd2622-8cc8-4492-f06d-39614e564c20"
      },
      "execution_count": 48,
      "outputs": [
        {
          "output_type": "stream",
          "name": "stdout",
          "text": [
            "ChipRate             5\n",
            "BF-CMratio          17\n",
            "BlowFlow            16\n",
            "ChipLevel4           1\n",
            "T-upperExt-2         2\n",
            "T-lowerExt-2         2\n",
            "UCZAA               25\n",
            "WhiteFlow-4          1\n",
            "AAWhiteSt-4        151\n",
            "AA-Wood-4            1\n",
            "ChipMoisture-4       1\n",
            "SteamFlow-4          1\n",
            "Lower-HeatT-3        2\n",
            "Upper-HeatT-3        2\n",
            "ChipMass-4           1\n",
            "WeakLiquorF          1\n",
            "BlackFlow-2          2\n",
            "WeakWashF            1\n",
            "SteamHeatF-3         2\n",
            "T-Top-Chips-4        1\n",
            "SulphidityL-4      151\n",
            "dtype: int64\n"
          ]
        }
      ]
    },
    {
      "cell_type": "code",
      "source": [
        "#Print total rows and columns in original dataset\n",
        "num_rows, num_columns = df.shape\n",
        "\n",
        "print(f\"Number of rows: {num_rows}\")\n",
        "print(f\"Number of columns: {num_columns}\")"
      ],
      "metadata": {
        "colab": {
          "base_uri": "https://localhost:8080/"
        },
        "id": "itq3wHktMSe3",
        "outputId": "bb30186e-ea46-4a1e-9e17-9b2034bae679"
      },
      "execution_count": 49,
      "outputs": [
        {
          "output_type": "stream",
          "name": "stdout",
          "text": [
            "Number of rows: 324\n",
            "Number of columns: 23\n"
          ]
        }
      ]
    },
    {
      "cell_type": "code",
      "source": [
        "print(\"Step 1: Handling the Missing Data\\n\")\n",
        "print(\"Original Dataset Before cleaning the missing data:\\n\")\n",
        "print(df)\n",
        "\n",
        "df_cleaned = df.dropna()\n",
        "print(\"\\nDataset After cleaning the missing data:\\n\")\n",
        "print(df_cleaned)"
      ],
      "metadata": {
        "colab": {
          "base_uri": "https://localhost:8080/"
        },
        "id": "cBeo9yGZMaLD",
        "outputId": "fddc67cd-a09d-4ff9-aa9e-e212c0739062"
      },
      "execution_count": 50,
      "outputs": [
        {
          "output_type": "stream",
          "name": "stdout",
          "text": [
            "Step 1: Handling the Missing Data\n",
            "\n",
            "Original Dataset Before cleaning the missing data:\n",
            "\n",
            "    Observation  Y-Kappa  ChipRate  BF-CMratio  BlowFlow  ChipLevel4   \\\n",
            "0      31-00:00    23.10    16.520     121.717  1177.607      169.805   \n",
            "1      31-01:00    27.60    16.810      79.022  1328.360      341.327   \n",
            "2      31-02:00    23.19    16.709      79.562  1329.407      239.161   \n",
            "3      31-03:00    23.60    16.478      81.011  1334.877      213.527   \n",
            "4      31-04:00    22.90    15.618      93.244  1334.168      243.131   \n",
            "..          ...      ...       ...         ...       ...          ...   \n",
            "319    10-16:00    23.75    12.667      93.450  1178.252      276.955   \n",
            "320     9-19:00    19.80    12.558      94.352  1184.119      297.071   \n",
            "321     9-20:00    23.01    12.550      90.842  1188.517      289.826   \n",
            "322     9-21:00    24.32    13.083      88.910  1192.879      318.006   \n",
            "323     9-22:00    25.75    13.417      85.451  1186.342      248.312   \n",
            "\n",
            "     T-upperExt-2   T-lowerExt-2    UCZAA  WhiteFlow-4   ...  SteamFlow-4   \\\n",
            "0          358.282         329.545  1.443       599.253  ...        67.122   \n",
            "1          351.050         329.067  1.549       537.201  ...        60.012   \n",
            "2          350.022         329.260  1.600       549.611  ...        61.304   \n",
            "3          350.938         331.142  1.604       623.362  ...        68.496   \n",
            "4          351.640         332.709    NaN       638.672  ...        70.022   \n",
            "..             ...             ...    ...           ...  ...           ...   \n",
            "319        347.286         310.970  1.523       513.956  ...        61.141   \n",
            "320        399.135         319.576  1.451       570.058  ...        67.667   \n",
            "321        373.633         314.591  1.457       549.306  ...        66.446   \n",
            "322        364.081         308.559  1.523       504.852  ...        61.054   \n",
            "323        356.289         310.482  1.474       497.375  ...        58.247   \n",
            "\n",
            "     Lower-HeatT-3  Upper-HeatT-3   ChipMass-4   WeakLiquorF   BlackFlow-2   \\\n",
            "0          329.432         303.099      175.964      1127.197      1319.039   \n",
            "1          330.823         304.879      163.202       665.975      1297.317   \n",
            "2          329.140         303.383      164.013       677.534      1327.072   \n",
            "3          328.875         302.254      181.487       767.853      1324.461   \n",
            "4          328.352         300.954      183.929       888.448      1343.424   \n",
            "..             ...             ...          ...           ...           ...   \n",
            "319        330.117         304.006      148.174      1027.201      1357.271   \n",
            "320        330.848         304.616      165.178       906.962      1311.177   \n",
            "321        330.226         304.686      160.841       887.125      1319.226   \n",
            "322        327.346         304.363      147.589       804.423      1320.225   \n",
            "323        328.092         304.093      144.218       828.328      1320.848   \n",
            "\n",
            "     WeakWashF   SteamHeatF-3   T-Top-Chips-4   SulphidityL-4   \n",
            "0       257.325         54.612         252.077             NaN  \n",
            "1       241.182         46.603         251.406           29.11  \n",
            "2       237.272         51.795         251.335             NaN  \n",
            "3       239.478         54.846         250.312           29.02  \n",
            "4       215.372         54.186         249.916           29.01  \n",
            "..          ...            ...             ...             ...  \n",
            "319     381.643         45.264         252.947           30.86  \n",
            "320      25.494         50.528         252.092           30.70  \n",
            "321       0.638         45.549         252.438             NaN  \n",
            "322       0.000         43.725         253.176           31.13  \n",
            "323       1.276         43.840         253.216             NaN  \n",
            "\n",
            "[324 rows x 23 columns]\n",
            "\n",
            "Dataset After cleaning the missing data:\n",
            "\n",
            "    Observation  Y-Kappa  ChipRate  BF-CMratio  BlowFlow  ChipLevel4   \\\n",
            "1      31-01:00    27.60    16.810      79.022  1328.360      341.327   \n",
            "3      31-03:00    23.60    16.478      81.011  1334.877      213.527   \n",
            "5       1-08:00    14.23    15.350      85.518  1171.604      198.538   \n",
            "7      31-06:00    22.65    14.100      91.887  1307.852      288.989   \n",
            "9      31-08:00    24.70    13.850      96.208  1334.892      362.511   \n",
            "..          ...      ...       ...         ...       ...          ...   \n",
            "312    31-10:00    24.40    14.117      85.998  1330.104      394.234   \n",
            "317     4-16:00    17.80    16.625      78.367  1276.082      202.744   \n",
            "319    10-16:00    23.75    12.667      93.450  1178.252      276.955   \n",
            "320     9-19:00    19.80    12.558      94.352  1184.119      297.071   \n",
            "322     9-21:00    24.32    13.083      88.910  1192.879      318.006   \n",
            "\n",
            "     T-upperExt-2   T-lowerExt-2    UCZAA  WhiteFlow-4   ...  SteamFlow-4   \\\n",
            "1          351.050         329.067  1.549       537.201  ...        60.012   \n",
            "3          350.938         331.142  1.604       623.362  ...        68.496   \n",
            "5          344.014         325.195  1.436       628.245  ...        65.225   \n",
            "7          352.321         331.162  1.468       625.549  ...        71.298   \n",
            "9          352.372         327.358  1.515       553.172  ...        64.249   \n",
            "..             ...             ...    ...           ...  ...           ...   \n",
            "312        348.089         319.027  1.429       540.558  ...        62.179   \n",
            "317        360.127         329.266  1.488       698.486  ...        75.296   \n",
            "319        347.286         310.970  1.523       513.956  ...        61.141   \n",
            "320        399.135         319.576  1.451       570.058  ...        67.667   \n",
            "322        364.081         308.559  1.523       504.852  ...        61.054   \n",
            "\n",
            "     Lower-HeatT-3  Upper-HeatT-3   ChipMass-4   WeakLiquorF   BlackFlow-2   \\\n",
            "1          330.823         304.879      163.202       665.975      1297.317   \n",
            "3          328.875         302.254      181.487       767.853      1324.461   \n",
            "5          322.103         298.517      165.814       826.243       907.641   \n",
            "7          329.662         301.539      179.886       837.178      1315.111   \n",
            "9          332.264         305.419      166.120       909.810      1318.725   \n",
            "..             ...             ...          ...           ...           ...   \n",
            "312        329.831         302.652      163.258       827.107      1312.372   \n",
            "317        321.658         297.088      180.438      1017.333      1052.785   \n",
            "319        330.117         304.006      148.174      1027.201      1357.271   \n",
            "320        330.848         304.616      165.178       906.962      1311.177   \n",
            "322        327.346         304.363      147.589       804.423      1320.225   \n",
            "\n",
            "     WeakWashF   SteamHeatF-3   T-Top-Chips-4   SulphidityL-4   \n",
            "1       241.182         46.603         251.406          29.110  \n",
            "3       239.478         54.846         250.312          29.020  \n",
            "5       595.875         52.807         249.580          30.340  \n",
            "7       234.047         53.805         249.971          29.220  \n",
            "9       180.375         48.842         251.121          29.210  \n",
            "..          ...            ...             ...             ...  \n",
            "312     132.163         49.446         251.406          29.292  \n",
            "317     433.089         54.675         251.747          30.320  \n",
            "319     381.643         45.264         252.947          30.860  \n",
            "320      25.494         50.528         252.092          30.700  \n",
            "322       0.000         43.725         253.176          31.130  \n",
            "\n",
            "[141 rows x 23 columns]\n"
          ]
        }
      ]
    },
    {
      "cell_type": "code",
      "source": [
        "#Check for missing values\n",
        "import pandas as pd\n",
        "\n",
        "# Load your dataset into a DataFrame\n",
        "df_cleaned\n",
        "\n",
        "# Count the number of rows with missing values\n",
        "rows_with_missing_values = df_cleaned.isna().sum(axis=1)\n",
        "\n",
        "# Count the total number of rows with missing values\n",
        "total_rows_with_missing_values = (rows_with_missing_values > 0).sum()\n",
        "\n",
        "print(f\"Number of rows with missing values: {total_rows_with_missing_values}\")"
      ],
      "metadata": {
        "colab": {
          "base_uri": "https://localhost:8080/"
        },
        "id": "SYSBcObqY2k3",
        "outputId": "b6b2a56c-c97b-4c4d-8224-a6f914000d9c"
      },
      "execution_count": 51,
      "outputs": [
        {
          "output_type": "stream",
          "name": "stdout",
          "text": [
            "Number of rows with missing values: 0\n"
          ]
        }
      ]
    },
    {
      "cell_type": "code",
      "source": [
        "print(\"Step 2: Checking for the Duplicate Values And Removing it\\n\")\n",
        "\n",
        "print(\"Before removing duplicates:\\n\")\n",
        "print(df_cleaned)\n",
        "\n",
        "df_no_duplicates = df_cleaned.drop_duplicates()\n",
        "\n",
        "print(\"\\nAfter removing duplicates:\\n\")\n",
        "print(df_no_duplicates)"
      ],
      "metadata": {
        "colab": {
          "base_uri": "https://localhost:8080/"
        },
        "id": "joBey6LmM3Zx",
        "outputId": "ed35830c-8f95-4136-f1cc-dd52a31dd719"
      },
      "execution_count": 52,
      "outputs": [
        {
          "output_type": "stream",
          "name": "stdout",
          "text": [
            "Step 2: Checking for the Duplicate Values And Removing it\n",
            "\n",
            "Before removing duplicates:\n",
            "\n",
            "    Observation  Y-Kappa  ChipRate  BF-CMratio  BlowFlow  ChipLevel4   \\\n",
            "1      31-01:00    27.60    16.810      79.022  1328.360      341.327   \n",
            "3      31-03:00    23.60    16.478      81.011  1334.877      213.527   \n",
            "5       1-08:00    14.23    15.350      85.518  1171.604      198.538   \n",
            "7      31-06:00    22.65    14.100      91.887  1307.852      288.989   \n",
            "9      31-08:00    24.70    13.850      96.208  1334.892      362.511   \n",
            "..          ...      ...       ...         ...       ...          ...   \n",
            "312    31-10:00    24.40    14.117      85.998  1330.104      394.234   \n",
            "317     4-16:00    17.80    16.625      78.367  1276.082      202.744   \n",
            "319    10-16:00    23.75    12.667      93.450  1178.252      276.955   \n",
            "320     9-19:00    19.80    12.558      94.352  1184.119      297.071   \n",
            "322     9-21:00    24.32    13.083      88.910  1192.879      318.006   \n",
            "\n",
            "     T-upperExt-2   T-lowerExt-2    UCZAA  WhiteFlow-4   ...  SteamFlow-4   \\\n",
            "1          351.050         329.067  1.549       537.201  ...        60.012   \n",
            "3          350.938         331.142  1.604       623.362  ...        68.496   \n",
            "5          344.014         325.195  1.436       628.245  ...        65.225   \n",
            "7          352.321         331.162  1.468       625.549  ...        71.298   \n",
            "9          352.372         327.358  1.515       553.172  ...        64.249   \n",
            "..             ...             ...    ...           ...  ...           ...   \n",
            "312        348.089         319.027  1.429       540.558  ...        62.179   \n",
            "317        360.127         329.266  1.488       698.486  ...        75.296   \n",
            "319        347.286         310.970  1.523       513.956  ...        61.141   \n",
            "320        399.135         319.576  1.451       570.058  ...        67.667   \n",
            "322        364.081         308.559  1.523       504.852  ...        61.054   \n",
            "\n",
            "     Lower-HeatT-3  Upper-HeatT-3   ChipMass-4   WeakLiquorF   BlackFlow-2   \\\n",
            "1          330.823         304.879      163.202       665.975      1297.317   \n",
            "3          328.875         302.254      181.487       767.853      1324.461   \n",
            "5          322.103         298.517      165.814       826.243       907.641   \n",
            "7          329.662         301.539      179.886       837.178      1315.111   \n",
            "9          332.264         305.419      166.120       909.810      1318.725   \n",
            "..             ...             ...          ...           ...           ...   \n",
            "312        329.831         302.652      163.258       827.107      1312.372   \n",
            "317        321.658         297.088      180.438      1017.333      1052.785   \n",
            "319        330.117         304.006      148.174      1027.201      1357.271   \n",
            "320        330.848         304.616      165.178       906.962      1311.177   \n",
            "322        327.346         304.363      147.589       804.423      1320.225   \n",
            "\n",
            "     WeakWashF   SteamHeatF-3   T-Top-Chips-4   SulphidityL-4   \n",
            "1       241.182         46.603         251.406          29.110  \n",
            "3       239.478         54.846         250.312          29.020  \n",
            "5       595.875         52.807         249.580          30.340  \n",
            "7       234.047         53.805         249.971          29.220  \n",
            "9       180.375         48.842         251.121          29.210  \n",
            "..          ...            ...             ...             ...  \n",
            "312     132.163         49.446         251.406          29.292  \n",
            "317     433.089         54.675         251.747          30.320  \n",
            "319     381.643         45.264         252.947          30.860  \n",
            "320      25.494         50.528         252.092          30.700  \n",
            "322       0.000         43.725         253.176          31.130  \n",
            "\n",
            "[141 rows x 23 columns]\n",
            "\n",
            "After removing duplicates:\n",
            "\n",
            "    Observation  Y-Kappa  ChipRate  BF-CMratio  BlowFlow  ChipLevel4   \\\n",
            "1      31-01:00    27.60    16.810      79.022  1328.360      341.327   \n",
            "3      31-03:00    23.60    16.478      81.011  1334.877      213.527   \n",
            "5       1-08:00    14.23    15.350      85.518  1171.604      198.538   \n",
            "7      31-06:00    22.65    14.100      91.887  1307.852      288.989   \n",
            "9      31-08:00    24.70    13.850      96.208  1334.892      362.511   \n",
            "..          ...      ...       ...         ...       ...          ...   \n",
            "290    12-01:00    19.90    11.333      87.405  1033.565      369.383   \n",
            "292    12-03:00    22.00    11.858      93.199  1171.206      366.787   \n",
            "294    12-05:00    19.00    12.425      92.905  1272.030      316.226   \n",
            "296    12-07:00    20.50    13.358      97.662  1304.597      377.678   \n",
            "298    12-09:00    20.90    15.167      84.640  1283.706      339.440   \n",
            "\n",
            "     T-upperExt-2   T-lowerExt-2    UCZAA  WhiteFlow-4   ...  SteamFlow-4   \\\n",
            "1          351.050         329.067  1.549       537.201  ...        60.012   \n",
            "3          350.938         331.142  1.604       623.362  ...        68.496   \n",
            "5          344.014         325.195  1.436       628.245  ...        65.225   \n",
            "7          352.321         331.162  1.468       625.549  ...        71.298   \n",
            "9          352.372         327.358  1.515       553.172  ...        64.249   \n",
            "..             ...             ...    ...           ...  ...           ...   \n",
            "290        343.515         302.364  1.592       452.718  ...        55.963   \n",
            "292        345.261         310.115  1.513       428.202  ...        52.494   \n",
            "294        345.811         307.806  1.633       469.045  ...        60.307   \n",
            "296        347.672         313.147  1.546       496.460  ...        60.119   \n",
            "298        354.803         311.041  1.635       532.419  ...        65.561   \n",
            "\n",
            "     Lower-HeatT-3  Upper-HeatT-3   ChipMass-4   WeakLiquorF   BlackFlow-2   \\\n",
            "1          330.823         304.879      163.202       665.975      1297.317   \n",
            "3          328.875         302.254      181.487       767.853      1324.461   \n",
            "5          322.103         298.517      165.814       826.243       907.641   \n",
            "7          329.662         301.539      179.886       837.178      1315.111   \n",
            "9          332.264         305.419      166.120       909.810      1318.725   \n",
            "..             ...             ...          ...           ...           ...   \n",
            "290        330.842         308.789      128.701       783.417      1293.108   \n",
            "292        330.589         309.152      122.011       816.020      1294.891   \n",
            "294        329.997         308.072      137.719       865.661      1292.216   \n",
            "296        332.615         308.575      141.076       997.904      1334.703   \n",
            "298        332.924         307.626      145.299       832.906      1344.708   \n",
            "\n",
            "     WeakWashF   SteamHeatF-3   T-Top-Chips-4   SulphidityL-4   \n",
            "1       241.182         46.603         251.406           29.11  \n",
            "3       239.478         54.846         250.312           29.02  \n",
            "5       595.875         52.807         249.580           30.34  \n",
            "7       234.047         53.805         249.971           29.22  \n",
            "9       180.375         48.842         251.121           29.21  \n",
            "..          ...            ...             ...             ...  \n",
            "290     390.049         41.596         252.428           30.73  \n",
            "292     391.607         42.080         253.206           30.24  \n",
            "294     391.645         44.330         253.323           30.31  \n",
            "296     389.497         46.206         252.423           30.43  \n",
            "298     388.911         49.524         251.833           30.29  \n",
            "\n",
            "[131 rows x 23 columns]\n"
          ]
        }
      ]
    },
    {
      "cell_type": "code",
      "source": [
        "print(\"Step 3: Detecting and Removal of Outliers\\n\")\n",
        "import pandas as pd\n",
        "import numpy as np\n",
        "from scipy import stats\n",
        "from scipy.stats import zscore\n",
        "\n",
        "# Load your dataset into a DataFrame\n",
        "df = df_no_duplicates\n",
        "\n",
        "# Define a Z-score threshold (e.g., 3 standard deviations)\n",
        "z_threshold = 3\n",
        "\n",
        "# Calculate Z-scores for all columns\n",
        "numerical_cols = df.select_dtypes(include=[np.number]).columns\n",
        "z_scores = np.abs(zscore(df[numerical_cols]))\n",
        "\n",
        "# Identify rows with outliers in any column\n",
        "outlier_rows = (z_scores > z_threshold).any(axis=1)\n",
        "\n",
        "# Remove rows with outliers\n",
        "df_no_outliers = df[~outlier_rows]\n",
        "\n",
        "print(\"After removing the outliers..\\n\")\n",
        "print(df_no_outliers)"
      ],
      "metadata": {
        "colab": {
          "base_uri": "https://localhost:8080/"
        },
        "id": "fUZBGlGHZQgO",
        "outputId": "4225c43f-b5ea-4e6f-ef67-f77c7c89a122"
      },
      "execution_count": 53,
      "outputs": [
        {
          "output_type": "stream",
          "name": "stdout",
          "text": [
            "Step 3: Detecting and Removal of Outliers\n",
            "\n",
            "After removing the outliers..\n",
            "\n",
            "    Observation  Y-Kappa  ChipRate  BF-CMratio  BlowFlow  ChipLevel4   \\\n",
            "1      31-01:00    27.60    16.810      79.022  1328.360      341.327   \n",
            "3      31-03:00    23.60    16.478      81.011  1334.877      213.527   \n",
            "5       1-08:00    14.23    15.350      85.518  1171.604      198.538   \n",
            "7      31-06:00    22.65    14.100      91.887  1307.852      288.989   \n",
            "9      31-08:00    24.70    13.850      96.208  1334.892      362.511   \n",
            "..          ...      ...       ...         ...       ...          ...   \n",
            "290    12-01:00    19.90    11.333      87.405  1033.565      369.383   \n",
            "292    12-03:00    22.00    11.858      93.199  1171.206      366.787   \n",
            "294    12-05:00    19.00    12.425      92.905  1272.030      316.226   \n",
            "296    12-07:00    20.50    13.358      97.662  1304.597      377.678   \n",
            "298    12-09:00    20.90    15.167      84.640  1283.706      339.440   \n",
            "\n",
            "     T-upperExt-2   T-lowerExt-2    UCZAA  WhiteFlow-4   ...  SteamFlow-4   \\\n",
            "1          351.050         329.067  1.549       537.201  ...        60.012   \n",
            "3          350.938         331.142  1.604       623.362  ...        68.496   \n",
            "5          344.014         325.195  1.436       628.245  ...        65.225   \n",
            "7          352.321         331.162  1.468       625.549  ...        71.298   \n",
            "9          352.372         327.358  1.515       553.172  ...        64.249   \n",
            "..             ...             ...    ...           ...  ...           ...   \n",
            "290        343.515         302.364  1.592       452.718  ...        55.963   \n",
            "292        345.261         310.115  1.513       428.202  ...        52.494   \n",
            "294        345.811         307.806  1.633       469.045  ...        60.307   \n",
            "296        347.672         313.147  1.546       496.460  ...        60.119   \n",
            "298        354.803         311.041  1.635       532.419  ...        65.561   \n",
            "\n",
            "     Lower-HeatT-3  Upper-HeatT-3   ChipMass-4   WeakLiquorF   BlackFlow-2   \\\n",
            "1          330.823         304.879      163.202       665.975      1297.317   \n",
            "3          328.875         302.254      181.487       767.853      1324.461   \n",
            "5          322.103         298.517      165.814       826.243       907.641   \n",
            "7          329.662         301.539      179.886       837.178      1315.111   \n",
            "9          332.264         305.419      166.120       909.810      1318.725   \n",
            "..             ...             ...          ...           ...           ...   \n",
            "290        330.842         308.789      128.701       783.417      1293.108   \n",
            "292        330.589         309.152      122.011       816.020      1294.891   \n",
            "294        329.997         308.072      137.719       865.661      1292.216   \n",
            "296        332.615         308.575      141.076       997.904      1334.703   \n",
            "298        332.924         307.626      145.299       832.906      1344.708   \n",
            "\n",
            "     WeakWashF   SteamHeatF-3   T-Top-Chips-4   SulphidityL-4   \n",
            "1       241.182         46.603         251.406           29.11  \n",
            "3       239.478         54.846         250.312           29.02  \n",
            "5       595.875         52.807         249.580           30.34  \n",
            "7       234.047         53.805         249.971           29.22  \n",
            "9       180.375         48.842         251.121           29.21  \n",
            "..          ...            ...             ...             ...  \n",
            "290     390.049         41.596         252.428           30.73  \n",
            "292     391.607         42.080         253.206           30.24  \n",
            "294     391.645         44.330         253.323           30.31  \n",
            "296     389.497         46.206         252.423           30.43  \n",
            "298     388.911         49.524         251.833           30.29  \n",
            "\n",
            "[119 rows x 23 columns]\n"
          ]
        }
      ]
    },
    {
      "cell_type": "code",
      "source": [
        "print(\"Step 4 : Performing Data Transformation using MinMax Scaling(Normalization) Technique\\n\")\n",
        "import pandas as pd\n",
        "import numpy as np\n",
        "from sklearn.preprocessing import MinMaxScaler\n",
        "\n",
        "numerical_cols = df_no_outliers.select_dtypes(include=[np.number]).columns\n",
        "# Initialize the scaler\n",
        "scaler = MinMaxScaler()\n",
        "\n",
        "# Fit and transform the scaler on the numerical features\n",
        "df_no_outliers[numerical_cols] = scaler.fit_transform(df_no_outliers[numerical_cols])\n",
        "\n",
        "print(\"Data is now transformed using Scaling technique\\n\")"
      ],
      "metadata": {
        "colab": {
          "base_uri": "https://localhost:8080/"
        },
        "id": "x70oxv8YaO7T",
        "outputId": "6e1e8541-8260-4cb9-e9f5-3dd9a5dde650"
      },
      "execution_count": 54,
      "outputs": [
        {
          "output_type": "stream",
          "name": "stdout",
          "text": [
            "Step 4 : Performing Data Transformation using MinMax Scaling(Normalization) Technique\n",
            "\n",
            "Data is now transformed using Scaling technique\n",
            "\n"
          ]
        },
        {
          "output_type": "stream",
          "name": "stderr",
          "text": [
            "<ipython-input-54-dee4cb750969>:11: SettingWithCopyWarning: \n",
            "A value is trying to be set on a copy of a slice from a DataFrame.\n",
            "Try using .loc[row_indexer,col_indexer] = value instead\n",
            "\n",
            "See the caveats in the documentation: https://pandas.pydata.org/pandas-docs/stable/user_guide/indexing.html#returning-a-view-versus-a-copy\n",
            "  df_no_outliers[numerical_cols] = scaler.fit_transform(df_no_outliers[numerical_cols])\n"
          ]
        }
      ]
    },
    {
      "cell_type": "code",
      "source": [
        "# Saving the DataFrame with all transformations to a new CSV file\n",
        "\n",
        "df_no_outliers.to_csv('preprocessed_dataset.csv', index=False)"
      ],
      "metadata": {
        "id": "UUa4L8YIb_gB"
      },
      "execution_count": 55,
      "outputs": []
    },
    {
      "cell_type": "code",
      "source": [
        "#Load the transformed CSV dataset file\n",
        "import pandas as pd\n",
        "df = pd.read_csv('preprocessed_dataset.csv')\n",
        "print(\"Thus,the data is preprocessed and cleaned successfully..\\n\")\n",
        "print(df.head())"
      ],
      "metadata": {
        "colab": {
          "base_uri": "https://localhost:8080/"
        },
        "id": "4Mf3G02HfrDS",
        "outputId": "e5f63fb8-94f5-499d-a112-1196d8e5a5f7"
      },
      "execution_count": 56,
      "outputs": [
        {
          "output_type": "stream",
          "name": "stdout",
          "text": [
            "Thus,the data is preprocessed and cleaned successfully..\n",
            "\n",
            "  Observation   Y-Kappa  ChipRate  BF-CMratio  BlowFlow  ChipLevel4   \\\n",
            "0    31-01:00  1.000000  0.998830    0.262982  0.978323     0.782530   \n",
            "1    31-03:00  0.700823  0.943349    0.313389  0.999950     0.424778   \n",
            "2     1-08:00  0.000000  0.754846    0.427608  0.458104     0.382820   \n",
            "3    31-06:00  0.629768  0.545956    0.589016  0.910264     0.636020   \n",
            "4    31-08:00  0.783096  0.504178    0.698523  1.000000     0.841831   \n",
            "\n",
            "   T-upperExt-2   T-lowerExt-2       UCZAA  WhiteFlow-4   ...  SteamFlow-4   \\\n",
            "0       0.310926        0.853949  0.649558      0.359505  ...      0.320187   \n",
            "1       0.307710        0.920307  0.746903      0.643685  ...      0.681516   \n",
            "2       0.108887        0.730125  0.449558      0.659790  ...      0.542206   \n",
            "3       0.347423        0.920947  0.506195      0.650898  ...      0.800852   \n",
            "4       0.348887        0.799296  0.589381      0.412181  ...      0.500639   \n",
            "\n",
            "   Lower-HeatT-3  Upper-HeatT-3   ChipMass-4   WeakLiquorF   BlackFlow-2   \\\n",
            "0       0.833356        0.707938     0.627395      0.273964      0.827500   \n",
            "1       0.698097        0.547280     0.905901      0.436125      0.876504   \n",
            "2       0.227885        0.318563     0.667179      0.529065      0.124012   \n",
            "3       0.752743        0.503519     0.881515      0.546470      0.859624   \n",
            "4       0.933412        0.740988     0.671840      0.662079      0.866149   \n",
            "\n",
            "   WeakWashF   SteamHeatF-3   T-Top-Chips-4   SulphidityL-4   \n",
            "0    0.403199       0.461171        0.517241        0.030000  \n",
            "1    0.400350       0.803858        0.322787        0.000000  \n",
            "2    0.996162       0.719090        0.192677        0.440000  \n",
            "3    0.391271       0.760580        0.262176        0.066667  \n",
            "4    0.301544       0.554253        0.466584        0.063333  \n",
            "\n",
            "[5 rows x 23 columns]\n"
          ]
        }
      ]
    }
  ]
}